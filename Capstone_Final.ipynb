{
  "cells": [
    {
      "cell_type": "code",
      "execution_count": 7,
      "metadata": {
        "id": "Rjq2BRMU08ws"
      },
      "outputs": [],
      "source": [
        "use_provider = 1\n",
        "missing_val_cutoff = .5\n",
        "drop_outlier_homes = 1\n",
        "use_clusters = 1\n",
        "num_weeks_staggered = 3"
      ]
    },
    {
      "cell_type": "markdown",
      "metadata": {
        "id": "tO5Us_ZVEaSO"
      },
      "source": [
        "https://data.cms.gov/covid-19/covid-19-nursing-home-data\n",
        "\n",
        "https://data.cms.gov/provider-data/dataset/4pq5-n9py"
      ]
    },
    {
      "cell_type": "code",
      "source": [
        "path_to_covid_data = '/content/drive/MyDrive/COVID_19_Nursing_Home_Data_03_06_2022.csv'\n",
        "path_to_provider_data = '/content/drive/MyDrive/NH_ProviderInfo_Feb2022.csv'"
      ],
      "metadata": {
        "id": "dQmaEH07WF7j"
      },
      "execution_count": 8,
      "outputs": []
    },
    {
      "cell_type": "markdown",
      "metadata": {
        "id": "xMyehoIq5HWs"
      },
      "source": [
        "#Read in Data"
      ]
    },
    {
      "cell_type": "code",
      "execution_count": 9,
      "metadata": {
        "colab": {
          "base_uri": "https://localhost:8080/"
        },
        "id": "odOqlW4rEY_b",
        "outputId": "c63b7acf-5f05-45a4-bab8-1e27d4cd881e"
      },
      "outputs": [
        {
          "output_type": "stream",
          "name": "stdout",
          "text": [
            "Drive already mounted at /content/drive; to attempt to forcibly remount, call drive.mount(\"/content/drive\", force_remount=True).\n"
          ]
        }
      ],
      "source": [
        "from google.colab import drive\n",
        "drive.mount('/content/drive')"
      ]
    },
    {
      "cell_type": "code",
      "execution_count": 10,
      "metadata": {
        "id": "us_IYayF4iSC"
      },
      "outputs": [],
      "source": [
        "import pandas as pd\n",
        "import numpy as np\n",
        "import matplotlib.pyplot as plt\n",
        "import seaborn as sns\n",
        "from tqdm import tqdm\n",
        "\n",
        "pd.set_option('display.max_columns', None)"
      ]
    },
    {
      "cell_type": "code",
      "execution_count": 11,
      "metadata": {
        "id": "FlS5joLOBvOH",
        "colab": {
          "base_uri": "https://localhost:8080/"
        },
        "outputId": "01775ca9-0c94-4ec8-8995-453b25ffdd85"
      },
      "outputs": [
        {
          "output_type": "stream",
          "name": "stderr",
          "text": [
            "/usr/local/lib/python3.7/dist-packages/IPython/core/interactiveshell.py:2882: DtypeWarning: Columns (1) have mixed types.Specify dtype option on import or set low_memory=False.\n",
            "  exec(code_obj, self.user_global_ns, self.user_ns)\n"
          ]
        }
      ],
      "source": [
        "df = pd.read_csv(path_to_covid_data)"
      ]
    },
    {
      "cell_type": "code",
      "execution_count": 12,
      "metadata": {
        "id": "pHjCMmNs4l3P"
      },
      "outputs": [],
      "source": [
        "df['Date'] = pd.to_datetime(df['Week Ending'])\n",
        "\n",
        "# Convert to weeks since the start of the data\n",
        "weeks = df['Week Ending'].unique()\n",
        "mapping = dict(zip(weeks, range(0, len(weeks))))\n",
        "df['Week Number'] = df['Week Ending'].replace(mapping)\n",
        "df = df.drop('Week Ending', axis=1)"
      ]
    },
    {
      "cell_type": "code",
      "execution_count": 13,
      "metadata": {
        "id": "jEMoOpVPrjYU"
      },
      "outputs": [],
      "source": [
        "# 846/15000 homes are not in this data, can just do an inner join\n",
        "if use_provider:\n",
        "  prov_df = pd.read_csv(path_to_provider_data)\n",
        "  df['Federal Provider Number'] = df['Federal Provider Number'].astype(str)\n",
        "  prov_df['Federal Provider Number'] = prov_df['Federal Provider Number'].astype(str)\n",
        "  prov_df.drop([\n",
        "       'Provider Name', \n",
        "       'Provider Address',\n",
        "       'Provider City', \n",
        "       'Provider State', \n",
        "       'Provider Zip Code',\n",
        "       'Provider Phone Number', \n",
        "       'Provider SSA County Code',\n",
        "       'Provider County Name',\n",
        "       'Legal Business Name',\n",
        "       'Date First Approved to Provide Medicare and Medicaid Services',\n",
        "       'Rating Cycle 2 Standard Health Survey Date',\n",
        "       'Location',\n",
        "       'Processing Date',\n",
        "       'Rating Cycle 1 Standard Survey Health Date',\n",
        "       'Rating Cycle 1 Total Number of Health Deficiencies',\n",
        "       'Rating Cycle 1 Number of Standard Health Deficiencies',\n",
        "       'Rating Cycle 1 Number of Complaint Health Deficiencies',\n",
        "       'Rating Cycle 1 Health Deficiency Score',\n",
        "       'Rating Cycle 1 Number of Health Revisits',\n",
        "       'Rating Cycle 1 Health Revisit Score',\n",
        "       'Rating Cycle 1 Total Health Score',\n",
        "       'Rating Cycle 2 Total Number of Health Deficiencies',\n",
        "       'Rating Cycle 2 Number of Standard Health Deficiencies',\n",
        "       'Rating Cycle 2 Number of Complaint Health Deficiencies',\n",
        "       'Rating Cycle 2 Health Deficiency Score',\n",
        "       'Rating Cycle 2 Number of Health Revisits',\n",
        "       'Rating Cycle 2 Health Revisit Score',\n",
        "       'Rating Cycle 2 Total Health Score',\n",
        "       'Rating Cycle 3 Standard Health Survey Date',\n",
        "       'Rating Cycle 3 Total Number of Health Deficiencies',\n",
        "       'Rating Cycle 3 Number of Standard Health Deficiencies',\n",
        "       'Rating Cycle 3 Number of Complaint Health Deficiencies',\n",
        "       'Rating Cycle 3 Health Deficiency Score',\n",
        "       'Rating Cycle 3 Number of Health Revisits',\n",
        "       'Rating Cycle 3 Health Revisit Score',\n",
        "       'Rating Cycle 3 Total Health Score'], inplace=True, axis=1)\n",
        "  df = df.merge(prov_df, left_on=['Federal Provider Number'], right_on=['Federal Provider Number'], how='inner')"
      ]
    },
    {
      "cell_type": "markdown",
      "metadata": {
        "id": "150sPrGR5FUB"
      },
      "source": [
        "#Data Cleaning"
      ]
    },
    {
      "cell_type": "code",
      "execution_count": 14,
      "metadata": {
        "id": "M3h4TkLi91Eb"
      },
      "outputs": [],
      "source": [
        "df = df.sort_values(['Federal Provider Number', 'Week Number'])"
      ]
    },
    {
      "cell_type": "code",
      "execution_count": 15,
      "metadata": {
        "id": "yUfcvJVi12Zo"
      },
      "outputs": [],
      "source": [
        "#Drop all columns with >x% missing values\n",
        "for col in df.columns:\n",
        "  percent_missing = df[col].isna().sum()/(df.shape[0] * 1.0)\n",
        "  if percent_missing > missing_val_cutoff:\n",
        "    df = df.drop(col, axis=1)"
      ]
    },
    {
      "cell_type": "code",
      "execution_count": 16,
      "metadata": {
        "id": "OGfFKoVDlfXY"
      },
      "outputs": [],
      "source": [
        "#Drop all rows with missing y values\n",
        "df = df.dropna(subset=['Residents Weekly Confirmed COVID-19'])"
      ]
    },
    {
      "cell_type": "code",
      "execution_count": 17,
      "metadata": {
        "id": "gUk4uIyomRoY"
      },
      "outputs": [],
      "source": [
        "# Drop rows that did not submit data or didn't pass the quality check\n",
        "df = df[df['Passed Quality Assurance Check'] == 'Y']\n",
        "df = df[df['Submitted Data'] == 'Y']"
      ]
    },
    {
      "cell_type": "code",
      "execution_count": 18,
      "metadata": {
        "id": "xvEqzHq-67GB"
      },
      "outputs": [],
      "source": [
        "# Drop obviously useless columns\n",
        "\n",
        "df = df.drop(['Provider Name', \n",
        "              'Provider Address', \n",
        "              'Provider City', \n",
        "              'Provider Phone Number', \n",
        "              'Submitted Data',\n",
        "              'Passed Quality Assurance Check',\n",
        "              'Reporting Interval',\n",
        "              'Provider State',\n",
        "              'Provider Zip Code'], axis=1)"
      ]
    },
    {
      "cell_type": "code",
      "execution_count": 19,
      "metadata": {
        "id": "b8w3WLy1ZkJ0"
      },
      "outputs": [],
      "source": [
        "#Drop homes that never had a covid case, or extreme outliers\n",
        "if drop_outlier_homes:\n",
        "  g_df = df.groupby('Federal Provider Number').mean()\n",
        "  provider_numbers = list(g_df[g_df['Residents Weekly Confirmed COVID-19'] == 0].index)\n",
        "  provider_numbers += list(g_df[g_df['Residents Weekly Confirmed COVID-19'] > 4].index)\n",
        "  df = df[~df['Federal Provider Number'].isin(provider_numbers)]\n",
        "  df.shape"
      ]
    },
    {
      "cell_type": "code",
      "execution_count": 20,
      "metadata": {
        "id": "HUhZU-BEDX65"
      },
      "outputs": [],
      "source": [
        "# Interpolate data\n",
        "df[df.columns.drop('Date')] = df[df.columns.drop('Date')].interpolate(method='nearest') \n",
        "\n",
        "df = df.fillna(0)"
      ]
    },
    {
      "cell_type": "markdown",
      "metadata": {
        "id": "JG1kXfidDqqu"
      },
      "source": [
        "#Data Encoding"
      ]
    },
    {
      "cell_type": "code",
      "execution_count": 21,
      "metadata": {
        "id": "huPIQFBXMPkz"
      },
      "outputs": [],
      "source": [
        "# One hot encode categorical columns\n",
        "cat_cols = df.select_dtypes(include=['object']).columns.drop(['Federal Provider Number', 'County'])\n",
        "\n",
        "one_hot_cols = []\n",
        "\n",
        "for col in cat_cols:\n",
        "  one_hot = pd.get_dummies(df[col], prefix=col, drop_first=True)\n",
        "  one_hot_cols += list(one_hot.columns)\n",
        "  df = df.drop(col, axis=1)\n",
        "  df = df.join(one_hot)"
      ]
    },
    {
      "cell_type": "code",
      "execution_count": 22,
      "metadata": {
        "id": "xURcZSooikIu"
      },
      "outputs": [],
      "source": [
        "from sklearn.cluster import KMeans\n",
        "\n",
        "# Cluster homes\n",
        "if use_clusters:\n",
        "  g_df = df.groupby('Federal Provider Number').mean()\n",
        "  model = KMeans(n_clusters = 50, random_state=42).fit(g_df)\n",
        "  g_df['Cluster'] = model.labels_\n",
        "  g_df['Federal Provider Number'] = g_df.index\n",
        "\n",
        "  df = df.merge(g_df['Cluster'], left_on='Federal Provider Number', right_on='Federal Provider Number')\n",
        "\n",
        "  one_hot = pd.get_dummies(df['Cluster'], prefix='Cluster')\n",
        "  cluster_cols = list(one_hot.columns)\n",
        "  one_hot_cols += cluster_cols\n",
        "  df = df.drop('Cluster', axis=1)\n",
        "  df = df.join(one_hot)"
      ]
    },
    {
      "cell_type": "code",
      "execution_count": 23,
      "metadata": {
        "id": "xV56VvSjOJgY"
      },
      "outputs": [],
      "source": [
        "# Aggregate our data into counties\n",
        "df = df.groupby(['Date', 'Week Number', 'County']).sum().reset_index()"
      ]
    },
    {
      "cell_type": "markdown",
      "metadata": {
        "id": "dffer8cqHfo4"
      },
      "source": [
        "Stagger data so we're predicting this weeks cases on the last X weeks data"
      ]
    },
    {
      "cell_type": "code",
      "execution_count": 24,
      "metadata": {
        "colab": {
          "base_uri": "https://localhost:8080/"
        },
        "id": "l0k7jhve8EK6",
        "outputId": "453ee50b-c01a-4799-fd81-1e5c56e47256"
      },
      "outputs": [
        {
          "output_type": "stream",
          "name": "stderr",
          "text": [
            "100%|██████████| 1657/1657 [03:28<00:00,  7.93it/s]\n"
          ]
        }
      ],
      "source": [
        "df = df.sort_values(['Week Number'])\n",
        "\n",
        "cols_not_staggered = ['Week Number', 'Date'] \n",
        "\n",
        "# Don't stagger cluster labels\n",
        "if use_clusters:     \n",
        "  cols_not_staggered = cols_not_staggered + cluster_cols\n",
        "\n",
        "# Don't stagger provider columns\n",
        "if use_provider:\n",
        "  prov_cols = [x for x in prov_df.columns if x in df.columns]\n",
        "  cols_not_staggered = cols_not_staggered + prov_cols\n",
        "\n",
        "cols_to_stagger = df.columns.drop(cols_not_staggered + ['County'])\n",
        "\n",
        "staggered_df = pd.DataFrame()\n",
        "\n",
        "for county in tqdm(df['County'].unique()):\n",
        "  county_df = df.loc[df['County'] == county].reset_index(drop=True) #all data for homes in this county\n",
        "  for i in range(1, num_weeks_staggered + 1):\n",
        "    staggered_county = county_df[cols_to_stagger].shift(i)\n",
        "    county_df = county_df.join(staggered_county, rsuffix=('_' + str(i) + '_weeks_ago'))\n",
        "  staggered_df = staggered_df.append(county_df)\n",
        "\n",
        "#Shift creates nans if there aren't enough values to stagger, so just drop those weeks\n",
        "staggered_df = staggered_df.dropna()\n",
        "\n",
        "staggered_df = staggered_df.sort_values('Week Number').reset_index(drop=True)"
      ]
    },
    {
      "cell_type": "code",
      "execution_count": 25,
      "metadata": {
        "id": "JSk6pYcsF7a6"
      },
      "outputs": [],
      "source": [
        "X = staggered_df.drop(list(cols_to_stagger) + ['County', 'Date'], axis=1)\n",
        "y = staggered_df['Residents Weekly Confirmed COVID-19']"
      ]
    },
    {
      "cell_type": "code",
      "execution_count": 26,
      "metadata": {
        "id": "35tO_0WMy7zW"
      },
      "outputs": [],
      "source": [
        "#Standardize predictors\n",
        "from sklearn.preprocessing import StandardScaler\n",
        "\n",
        "# Ignore binary columns\n",
        "cont_cols = [c for c in X.columns if len(X[c].unique()) > 2]\n",
        "\n",
        "scaler = StandardScaler()\n",
        "X[cont_cols] = scaler.fit_transform(X[cont_cols])"
      ]
    },
    {
      "cell_type": "markdown",
      "metadata": {
        "id": "iktOL3Pzbs-q"
      },
      "source": [
        "#Data Modeling"
      ]
    },
    {
      "cell_type": "code",
      "execution_count": 27,
      "metadata": {
        "id": "_1t72isH5wiD"
      },
      "outputs": [],
      "source": [
        "from sklearn.linear_model import Ridge, LinearRegression, ElasticNet, Lasso, LassoLars\n",
        "from sklearn.tree import DecisionTreeRegressor\n",
        "from sklearn.ensemble import BaggingRegressor, RandomForestRegressor\n",
        "from sklearn.neighbors import KNeighborsRegressor\n",
        "from sklearn.svm import SVR\n",
        "from sklearn.model_selection import TimeSeriesSplit\n",
        "from sklearn.metrics import mean_squared_error, r2_score\n",
        "\n",
        "def runSKModelsReg(X_train, X_test, y_train, y_test):\n",
        "  res = []\n",
        "  for model in [Ridge(),\n",
        "                ElasticNet(),\n",
        "                Lasso(),\n",
        "                DecisionTreeRegressor(),\n",
        "                BaggingRegressor(Ridge(), max_samples=0.5, max_features=0.5)\n",
        "                ]:\n",
        "    model.fit(X_train, y_train)\n",
        "    pred = model.predict(X_test)\n",
        "    error = mean_squared_error(y_test, pred, squared=False)\n",
        "    print(round(error, 3), round(r2_score(y_test, pred), 3),  model)\n",
        "    res.append(error)\n",
        "    del(model)\n",
        "  return res"
      ]
    },
    {
      "cell_type": "code",
      "execution_count": 28,
      "metadata": {
        "id": "kla9aibQn5uA"
      },
      "outputs": [],
      "source": [
        "import tensorflow as tf\n",
        "\n",
        "def runMLPReg(X_train, X_test, y_train, y_test):\n",
        "  model = tf.keras.models.Sequential([\n",
        "        tf.keras.layers.Dense(128,activation=tf.nn.relu,input_shape=[X_train.shape[1],]),\n",
        "        tf.keras.layers.Dropout(0.1),\n",
        "        tf.keras.layers.Dense(64,activation=tf.nn.relu),\n",
        "        tf.keras.layers.Dropout(0.1),\n",
        "        tf.keras.layers.Dense(64,activation=tf.nn.relu),\n",
        "        tf.keras.layers.Dropout(0.1),\n",
        "        tf.keras.layers.Dense(64,activation=tf.nn.relu),\n",
        "        tf.keras.layers.Dense(32,activation=tf.nn.relu),\n",
        "        tf.keras.layers.Dense(1)\n",
        "        ])\n",
        "\n",
        "  model.compile(optimizer='adam', loss='mean_squared_error')\n",
        "\n",
        "  history = model.fit(X_train,y_train,epochs=5,validation_split=0.2,batch_size=100, verbose=False)\n",
        "  pred =  model.predict(X_test)\n",
        "  error = mean_squared_error(y_test, pred, squared=False)\n",
        "  print(round(error, 3), round(r2_score(y_test, pred), 3), 'Fully Connected Neural Network')\n",
        "\n",
        "  return error\n",
        "\n",
        "def runRNNReg(X_train, X_test, y_train, y_test):\n",
        "  X_train = X_train.reshape(X_train.shape[0], 1, X_train.shape[1])\n",
        "  X_test = X_test.reshape(X_test.shape[0], 1, X_test.shape[1])\n",
        "  y_train = y_train.reshape(-1, 1)\n",
        "  y_test = y_test.reshape(-1, 1)\n",
        "\n",
        "  model = tf.keras.models.Sequential()\n",
        "  model.add(tf.keras.layers.SimpleRNN(128, input_shape=X_train[0].shape, return_sequences=True))\n",
        "  model.add(tf.keras.layers.Dropout(0.1))\n",
        "  model.add(tf.keras.layers.SimpleRNN(64, activation=tf.nn.relu, return_sequences=True))\n",
        "  model.add(tf.keras.layers.Dropout(0.1))\n",
        "  model.add(tf.keras.layers.SimpleRNN(64, activation=tf.nn.relu))\n",
        "  model.add(tf.keras.layers.Dropout(0.1))\n",
        "  model.add(tf.keras.layers.Dense(32, activation=tf.nn.relu))\n",
        "  model.add(tf.keras.layers.Dense(1))\n",
        "\n",
        "  model.compile(optimizer='adam', loss='mean_squared_error')\n",
        "\n",
        "  history = model.fit(X_train,y_train,epochs=2,validation_split=0.2,batch_size=100, verbose=False)\n",
        "\n",
        "  pred = model.predict(X_test).reshape(-1)\n",
        "  y_test = y_test.reshape(-1)\n",
        "  error = mean_squared_error(y_test, pred, squared=False)\n",
        "  print(round(error, 3), round(r2_score(y_test, pred), 3), 'Recurrent Neural Network')\n",
        "\n",
        "  return error\n",
        "\n",
        "def runLSTMReg(X_train, X_test, y_train, y_test):\n",
        "  X_train = X_train.reshape(X_train.shape[0], 1, X_train.shape[1])\n",
        "  X_test = X_test.reshape(X_test.shape[0], 1, X_test.shape[1])\n",
        "  y_train = y_train.reshape(-1, 1)\n",
        "  y_test = y_test.reshape(-1, 1)\n",
        "\n",
        "  model = tf.keras.models.Sequential()\n",
        "  model.add(tf.keras.layers.LSTM(64, input_shape=X_train[0].shape, return_sequences=True))\n",
        "  model.add(tf.keras.layers.LSTM(32,activation=tf.nn.relu, return_sequences=True))\n",
        "  model.add(tf.keras.layers.LSTM(32,activation=tf.nn.relu, return_sequences=True))\n",
        "  model.add(tf.keras.layers.Dense(16,activation=tf.nn.relu))\n",
        "  model.add(tf.keras.layers.Dense(1))\n",
        "\n",
        "  model.compile(optimizer='adam', loss='mean_squared_error')\n",
        "\n",
        "  history = model.fit(X_train,y_train,epochs=2,validation_split=0.2,batch_size=100,verbose=False)\n",
        "\n",
        "  pred = model.predict(X_test).reshape(-1)\n",
        "  y_test = y_test.reshape(-1)\n",
        "  error = mean_squared_error(y_test, pred, squared=False)\n",
        "  print(round(error, 3), round(r2_score(y_test, pred), 3), 'LSTM Neural Network')\n",
        "\n",
        "  return error"
      ]
    },
    {
      "cell_type": "code",
      "execution_count": 29,
      "metadata": {
        "colab": {
          "base_uri": "https://localhost:8080/"
        },
        "id": "ke4m2VbJ7z_V",
        "outputId": "9cd34986-003f-49e6-d6a8-7f9d88d4a840"
      },
      "outputs": [
        {
          "output_type": "stream",
          "name": "stdout",
          "text": [
            "0 ----------------------------------------------------------\n",
            "16.878 0.763 Ridge()\n",
            "22.287 0.586 ElasticNet()\n",
            "20.632 0.646 Lasso()\n",
            "23.276 0.549 DecisionTreeRegressor()\n",
            "17.318 0.75 BaggingRegressor(base_estimator=Ridge(), max_features=0.5, max_samples=0.5)\n",
            "25.326 0.466 Fully Connected Neural Network\n",
            "24.741 0.49 Recurrent Neural Network\n",
            "25.466 0.46 LSTM Neural Network\n",
            "1 ----------------------------------------------------------\n",
            "8.901 0.657 Ridge()\n",
            "9.174 0.635 ElasticNet()\n",
            "7.712 0.742 Lasso()\n",
            "18.029 -0.408 DecisionTreeRegressor()\n",
            "9.155 0.637 BaggingRegressor(base_estimator=Ridge(), max_features=0.5, max_samples=0.5)\n",
            "8.652 0.676 Fully Connected Neural Network\n",
            "125.063 -66.744 Recurrent Neural Network\n",
            "27.367 -2.244 LSTM Neural Network\n",
            "2 ----------------------------------------------------------\n",
            "3.943 -1.296 Ridge()\n",
            "1.911 0.461 ElasticNet()\n",
            "1.828 0.506 Lasso()\n",
            "2.557 0.035 DecisionTreeRegressor()\n",
            "3.073 -0.394 BaggingRegressor(base_estimator=Ridge(), max_features=0.5, max_samples=0.5)\n",
            "5.049 -2.764 Fully Connected Neural Network\n",
            "567.199 -47500.288 Recurrent Neural Network\n",
            "12.84 -23.343 LSTM Neural Network\n",
            "3 ----------------------------------------------------------\n",
            "4.615 0.535 Ridge()\n",
            "4.215 0.612 ElasticNet()\n",
            "4.149 0.624 Lasso()\n",
            "6.317 0.129 DecisionTreeRegressor()\n",
            "4.546 0.549 BaggingRegressor(base_estimator=Ridge(), max_features=0.5, max_samples=0.5)\n",
            "6.127 0.181 Fully Connected Neural Network\n",
            "9.483 -0.962 Recurrent Neural Network\n",
            "14.639 -3.677 LSTM Neural Network\n",
            "4 ----------------------------------------------------------\n",
            "14.345 0.871 Ridge()\n",
            "20.548 0.736 ElasticNet()\n",
            "15.927 0.841 Lasso()\n",
            "29.241 0.465 DecisionTreeRegressor()\n",
            "14.663 0.865 BaggingRegressor(base_estimator=Ridge(), max_features=0.5, max_samples=0.5)\n",
            "19.006 0.774 Fully Connected Neural Network\n",
            "54.459 -0.856 Recurrent Neural Network\n",
            "135.894 -10.556 LSTM Neural Network\n",
            "[  9.736  11.627  10.05   15.884   9.751  12.832 156.189  43.241] 9.736\n",
            "use_provider: 1 , missing_val_cutoff: 0.5 , drop_outlier_homes: 1 , use_clusters: 1 , num_weeks_staggered: 3\n"
          ]
        }
      ],
      "source": [
        "y = np.array(y)\n",
        "\n",
        "tscv = TimeSeriesSplit()\n",
        "num_split = 0\n",
        "all_results = np.ndarray((5, 8))\n",
        "for train_index, test_index in tscv.split(X):\n",
        "  X_train, X_test = X.values[train_index], X.values[test_index]\n",
        "  y_train, y_test = y[train_index], y[test_index]\n",
        "\n",
        "  print(num_split, '----------------------------------------------------------')\n",
        "\n",
        "  results = runSKModelsReg(X_train, X_test, y_train, y_test)\n",
        "  results.append(runMLPReg(X_train, X_test, y_train, y_test))\n",
        "  results.append(runRNNReg(X_train, X_test, y_train, y_test))\n",
        "  results.append(runLSTMReg(X_train, X_test, y_train, y_test))\n",
        "  \n",
        "  all_results[num_split] = np.array(results)\n",
        "  num_split += 1\n",
        "\n",
        "all_results = np.round(np.mean(all_results, axis=0), decimals=3)\n",
        "print(all_results, all_results.min())\n",
        "print(\"use_provider:\", use_provider, \", missing_val_cutoff:\", missing_val_cutoff, \", drop_outlier_homes:\", drop_outlier_homes, \", use_clusters:\", use_clusters, \", num_weeks_staggered:\", num_weeks_staggered)"
      ]
    },
    {
      "cell_type": "code",
      "execution_count": 30,
      "metadata": {
        "colab": {
          "base_uri": "https://localhost:8080/",
          "height": 442
        },
        "id": "vtJcXy4A_IGU",
        "outputId": "425aba69-afaa-46fd-8cd2-345b7914f9e5"
      },
      "outputs": [
        {
          "output_type": "stream",
          "name": "stdout",
          "text": [
            "15.927 0.841\n"
          ]
        },
        {
          "output_type": "execute_result",
          "data": {
            "text/plain": [
              "     Coefficient                                             Column\n",
              "0      -0.000000                                        Week Number\n",
              "316     0.000000  Ownership Type_For profit - Limited Liability ...\n",
              "315     0.000000  Ownership Type_For profit - Individual_2_weeks...\n",
              "314    -0.000000  Facility Would Like Assistance Outreach for Va...\n",
              "313     0.000000  Facility Would Like Assistance Outreach for Va...\n",
              "..           ...                                                ...\n",
              "140     1.127473  Initial Confirmed COVID-19 Case This Week_Y_1_...\n",
              "110     1.463577  Number of Residents with a New Positive COVID-...\n",
              "138     3.561761  Three or More Confirmed COVID-19 Cases This We...\n",
              "99      6.704452        Staff Weekly Confirmed COVID-19_1_weeks_ago\n",
              "89      8.738088    Residents Weekly Confirmed COVID-19_1_weeks_ago\n",
              "\n",
              "[465 rows x 2 columns]"
            ],
            "text/html": [
              "\n",
              "  <div id=\"df-e9dfb222-9e3c-46f8-a33b-69a4507bb196\">\n",
              "    <div class=\"colab-df-container\">\n",
              "      <div>\n",
              "<style scoped>\n",
              "    .dataframe tbody tr th:only-of-type {\n",
              "        vertical-align: middle;\n",
              "    }\n",
              "\n",
              "    .dataframe tbody tr th {\n",
              "        vertical-align: top;\n",
              "    }\n",
              "\n",
              "    .dataframe thead th {\n",
              "        text-align: right;\n",
              "    }\n",
              "</style>\n",
              "<table border=\"1\" class=\"dataframe\">\n",
              "  <thead>\n",
              "    <tr style=\"text-align: right;\">\n",
              "      <th></th>\n",
              "      <th>Coefficient</th>\n",
              "      <th>Column</th>\n",
              "    </tr>\n",
              "  </thead>\n",
              "  <tbody>\n",
              "    <tr>\n",
              "      <th>0</th>\n",
              "      <td>-0.000000</td>\n",
              "      <td>Week Number</td>\n",
              "    </tr>\n",
              "    <tr>\n",
              "      <th>316</th>\n",
              "      <td>0.000000</td>\n",
              "      <td>Ownership Type_For profit - Limited Liability ...</td>\n",
              "    </tr>\n",
              "    <tr>\n",
              "      <th>315</th>\n",
              "      <td>0.000000</td>\n",
              "      <td>Ownership Type_For profit - Individual_2_weeks...</td>\n",
              "    </tr>\n",
              "    <tr>\n",
              "      <th>314</th>\n",
              "      <td>-0.000000</td>\n",
              "      <td>Facility Would Like Assistance Outreach for Va...</td>\n",
              "    </tr>\n",
              "    <tr>\n",
              "      <th>313</th>\n",
              "      <td>0.000000</td>\n",
              "      <td>Facility Would Like Assistance Outreach for Va...</td>\n",
              "    </tr>\n",
              "    <tr>\n",
              "      <th>...</th>\n",
              "      <td>...</td>\n",
              "      <td>...</td>\n",
              "    </tr>\n",
              "    <tr>\n",
              "      <th>140</th>\n",
              "      <td>1.127473</td>\n",
              "      <td>Initial Confirmed COVID-19 Case This Week_Y_1_...</td>\n",
              "    </tr>\n",
              "    <tr>\n",
              "      <th>110</th>\n",
              "      <td>1.463577</td>\n",
              "      <td>Number of Residents with a New Positive COVID-...</td>\n",
              "    </tr>\n",
              "    <tr>\n",
              "      <th>138</th>\n",
              "      <td>3.561761</td>\n",
              "      <td>Three or More Confirmed COVID-19 Cases This We...</td>\n",
              "    </tr>\n",
              "    <tr>\n",
              "      <th>99</th>\n",
              "      <td>6.704452</td>\n",
              "      <td>Staff Weekly Confirmed COVID-19_1_weeks_ago</td>\n",
              "    </tr>\n",
              "    <tr>\n",
              "      <th>89</th>\n",
              "      <td>8.738088</td>\n",
              "      <td>Residents Weekly Confirmed COVID-19_1_weeks_ago</td>\n",
              "    </tr>\n",
              "  </tbody>\n",
              "</table>\n",
              "<p>465 rows × 2 columns</p>\n",
              "</div>\n",
              "      <button class=\"colab-df-convert\" onclick=\"convertToInteractive('df-e9dfb222-9e3c-46f8-a33b-69a4507bb196')\"\n",
              "              title=\"Convert this dataframe to an interactive table.\"\n",
              "              style=\"display:none;\">\n",
              "        \n",
              "  <svg xmlns=\"http://www.w3.org/2000/svg\" height=\"24px\"viewBox=\"0 0 24 24\"\n",
              "       width=\"24px\">\n",
              "    <path d=\"M0 0h24v24H0V0z\" fill=\"none\"/>\n",
              "    <path d=\"M18.56 5.44l.94 2.06.94-2.06 2.06-.94-2.06-.94-.94-2.06-.94 2.06-2.06.94zm-11 1L8.5 8.5l.94-2.06 2.06-.94-2.06-.94L8.5 2.5l-.94 2.06-2.06.94zm10 10l.94 2.06.94-2.06 2.06-.94-2.06-.94-.94-2.06-.94 2.06-2.06.94z\"/><path d=\"M17.41 7.96l-1.37-1.37c-.4-.4-.92-.59-1.43-.59-.52 0-1.04.2-1.43.59L10.3 9.45l-7.72 7.72c-.78.78-.78 2.05 0 2.83L4 21.41c.39.39.9.59 1.41.59.51 0 1.02-.2 1.41-.59l7.78-7.78 2.81-2.81c.8-.78.8-2.07 0-2.86zM5.41 20L4 18.59l7.72-7.72 1.47 1.35L5.41 20z\"/>\n",
              "  </svg>\n",
              "      </button>\n",
              "      \n",
              "  <style>\n",
              "    .colab-df-container {\n",
              "      display:flex;\n",
              "      flex-wrap:wrap;\n",
              "      gap: 12px;\n",
              "    }\n",
              "\n",
              "    .colab-df-convert {\n",
              "      background-color: #E8F0FE;\n",
              "      border: none;\n",
              "      border-radius: 50%;\n",
              "      cursor: pointer;\n",
              "      display: none;\n",
              "      fill: #1967D2;\n",
              "      height: 32px;\n",
              "      padding: 0 0 0 0;\n",
              "      width: 32px;\n",
              "    }\n",
              "\n",
              "    .colab-df-convert:hover {\n",
              "      background-color: #E2EBFA;\n",
              "      box-shadow: 0px 1px 2px rgba(60, 64, 67, 0.3), 0px 1px 3px 1px rgba(60, 64, 67, 0.15);\n",
              "      fill: #174EA6;\n",
              "    }\n",
              "\n",
              "    [theme=dark] .colab-df-convert {\n",
              "      background-color: #3B4455;\n",
              "      fill: #D2E3FC;\n",
              "    }\n",
              "\n",
              "    [theme=dark] .colab-df-convert:hover {\n",
              "      background-color: #434B5C;\n",
              "      box-shadow: 0px 1px 3px 1px rgba(0, 0, 0, 0.15);\n",
              "      filter: drop-shadow(0px 1px 2px rgba(0, 0, 0, 0.3));\n",
              "      fill: #FFFFFF;\n",
              "    }\n",
              "  </style>\n",
              "\n",
              "      <script>\n",
              "        const buttonEl =\n",
              "          document.querySelector('#df-e9dfb222-9e3c-46f8-a33b-69a4507bb196 button.colab-df-convert');\n",
              "        buttonEl.style.display =\n",
              "          google.colab.kernel.accessAllowed ? 'block' : 'none';\n",
              "\n",
              "        async function convertToInteractive(key) {\n",
              "          const element = document.querySelector('#df-e9dfb222-9e3c-46f8-a33b-69a4507bb196');\n",
              "          const dataTable =\n",
              "            await google.colab.kernel.invokeFunction('convertToInteractive',\n",
              "                                                     [key], {});\n",
              "          if (!dataTable) return;\n",
              "\n",
              "          const docLinkHtml = 'Like what you see? Visit the ' +\n",
              "            '<a target=\"_blank\" href=https://colab.research.google.com/notebooks/data_table.ipynb>data table notebook</a>'\n",
              "            + ' to learn more about interactive tables.';\n",
              "          element.innerHTML = '';\n",
              "          dataTable['output_type'] = 'display_data';\n",
              "          await google.colab.output.renderOutput(dataTable, element);\n",
              "          const docLink = document.createElement('div');\n",
              "          docLink.innerHTML = docLinkHtml;\n",
              "          element.appendChild(docLink);\n",
              "        }\n",
              "      </script>\n",
              "    </div>\n",
              "  </div>\n",
              "  "
            ]
          },
          "metadata": {},
          "execution_count": 30
        }
      ],
      "source": [
        "# What features are the most important?\n",
        "model = Lasso().fit(X_train, y_train)\n",
        "pred =  model.predict(X_test)\n",
        "print(round(mean_squared_error(y_test, pred, squared=False), 3), round(r2_score(y_test, pred), 3))\n",
        "\n",
        "temp = pd.DataFrame(model.coef_, columns=['Coefficient'])\n",
        "temp['Column'] = X.columns\n",
        "temp = temp.sort_values('Coefficient')\n",
        "temp"
      ]
    },
    {
      "cell_type": "markdown",
      "metadata": {
        "id": "C5MgR3C8QG3O"
      },
      "source": [
        "#Export Predictions"
      ]
    },
    {
      "cell_type": "code",
      "execution_count": 31,
      "metadata": {
        "id": "Fd4kBkI1QGWI"
      },
      "outputs": [],
      "source": [
        "model = Lasso().fit(X_train, y_train)\n",
        "pred =  model.predict(X_test)"
      ]
    },
    {
      "cell_type": "code",
      "execution_count": 32,
      "metadata": {
        "id": "Q3mpPXIVQUg-"
      },
      "outputs": [],
      "source": [
        "pred_df = pd.DataFrame(data=pred.reshape(-1, 1), columns=['Prediction'])\n",
        "pred_df['Actual Cases'] = y_test\n",
        "pred_df['County'] = staggered_df['County'].iloc[test_index].reset_index(drop=True)\n",
        "pred_df['Date'] = staggered_df['Date'].iloc[test_index].reset_index(drop=True)"
      ]
    },
    {
      "cell_type": "code",
      "execution_count": 36,
      "metadata": {
        "id": "XUo5iO1Qr-3b"
      },
      "outputs": [],
      "source": [
        "#Make a prediction one week into the future\n",
        "this_week_df = staggered_df[staggered_df['Week Number'] == max(staggered_df['Week Number'])]\n",
        "\n",
        "this_week_counties = this_week_df['County']\n",
        "\n",
        "this_week_df = this_week_df.drop(['County', 'Date'], axis=1)\n",
        "\n",
        "column_name_mapper = {}\n",
        "\n",
        "for c in this_week_df.columns:\n",
        "  if c.endswith('_3_weeks_ago'):\n",
        "    this_week_df = this_week_df.drop(c, axis=1)\n",
        "  elif c.endswith('_2_weeks_ago'):\n",
        "    column_name_mapper[c] = c.replace('_2_weeks_ago', '_3_weeks_ago')\n",
        "  elif c.endswith('_1_weeks_ago'):\n",
        "    column_name_mapper[c] = c.replace('_1_weeks_ago', '_2_weeks_ago')\n",
        "  elif c in cols_to_stagger:\n",
        "    column_name_mapper[c] = c + '_1_weeks_ago'\n",
        "\n",
        "this_week_df = this_week_df.rename(mapper=column_name_mapper, axis=1)\n",
        "\n",
        "this_week_df = this_week_df[X.columns.tolist()] # Reorder to X's column order\n",
        "\n",
        "this_week_df[cont_cols] = scaler.transform(this_week_df[cont_cols])"
      ]
    },
    {
      "cell_type": "code",
      "execution_count": 37,
      "metadata": {
        "id": "fC03h0c7mVQp"
      },
      "outputs": [],
      "source": [
        "import datetime\n",
        "\n",
        "next_week_df = pd.DataFrame()\n",
        "next_week_df['Prediction'] = Lasso().fit(X, y).predict(this_week_df)\n",
        "next_week_df['Actual Cases'] = np.zeros(len(next_week_df))\n",
        "next_week_df['County'] = this_week_counties.values\n",
        "next_week_df['Date'] = [max(staggered_df['Date']) + datetime.timedelta(days=7)] * len(next_week_df)"
      ]
    },
    {
      "cell_type": "code",
      "execution_count": 38,
      "metadata": {
        "id": "QZRD56aqm1Eq"
      },
      "outputs": [],
      "source": [
        "pred_df = pd.concat([pred_df, next_week_df])\n",
        "pred_df = pred_df.sort_values('Date')"
      ]
    },
    {
      "cell_type": "code",
      "execution_count": 39,
      "metadata": {
        "id": "go9FdRJqmiiv"
      },
      "outputs": [],
      "source": [
        "result_df = pd.DataFrame()\n",
        "for county in pred_df['County'].unique():\n",
        "  county_df = pred_df.loc[pred_df['County'] == county].reset_index(drop=True) #all data for homes in this county\n",
        "  staggered_county = county_df[['Actual Cases', 'Prediction']].shift(1)\n",
        "  county_df = county_df.join(staggered_county, rsuffix=(' Lag'))\n",
        "  result_df = result_df.append(county_df)\n",
        "\n",
        "result_df = result_df.fillna(0)\n",
        "result_df['Weekly Predicted Difference'] = result_df['Prediction'] - result_df['Actual Cases Lag']"
      ]
    },
    {
      "cell_type": "code",
      "execution_count": 40,
      "metadata": {
        "id": "bqefQqZu3Lvl"
      },
      "outputs": [],
      "source": [
        "result_df.to_csv('County Level Predictions.csv')"
      ]
    }
  ],
  "metadata": {
    "accelerator": "TPU",
    "colab": {
      "collapsed_sections": [
        "xMyehoIq5HWs",
        "150sPrGR5FUB",
        "JG1kXfidDqqu"
      ],
      "machine_shape": "hm",
      "name": "Capstone - Final.ipynb",
      "provenance": []
    },
    "kernelspec": {
      "display_name": "Python 3",
      "name": "python3"
    },
    "language_info": {
      "name": "python"
    }
  },
  "nbformat": 4,
  "nbformat_minor": 0
}